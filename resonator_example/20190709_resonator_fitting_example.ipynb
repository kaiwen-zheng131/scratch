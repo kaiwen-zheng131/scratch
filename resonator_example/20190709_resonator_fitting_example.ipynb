{
 "cells": [
  {
   "cell_type": "code",
   "execution_count": 1,
   "metadata": {},
   "outputs": [
    {
     "name": "stdout",
     "output_type": "stream",
     "text": [
      "Populating the interactive namespace from numpy and matplotlib\n"
     ]
    }
   ],
   "source": [
    "%pylab inline"
   ]
  },
  {
   "cell_type": "code",
   "execution_count": 5,
   "metadata": {},
   "outputs": [],
   "source": [
    "from lmfit import Model\n",
    "import pandas\n",
    "import numpy as np\n",
    "from matplotlib.pyplot import *\n",
    "import resonator_model"
   ]
  },
  {
   "cell_type": "code",
   "execution_count": 6,
   "metadata": {
    "collapsed": true
   },
   "outputs": [],
   "source": [
    "#you don't actually fit for these, so just make functions\n",
    "def get_qi(Q, Q_e_real):\n",
    "    return (Q**-1 - Q_e_real**-1)**-1\n",
    "\n",
    "def get_br(Q, f_0):\n",
    "    return f_0*(2 * Q)**-1"
   ]
  },
  {
   "cell_type": "code",
   "execution_count": 19,
   "metadata": {
    "collapsed": true
   },
   "outputs": [],
   "source": [
    "#here's some data\n",
    "data = np.load('single_res_data.npz')"
   ]
  },
  {
   "cell_type": "code",
   "execution_count": 22,
   "metadata": {},
   "outputs": [],
   "source": [
    "real_res = data['real']\n",
    "imag_res = data['imag']\n",
    "freqs_res = data['freqs']"
   ]
  },
  {
   "cell_type": "code",
   "execution_count": 25,
   "metadata": {
    "collapsed": true
   },
   "outputs": [],
   "source": [
    "#fit the model\n",
    "result = resonator_model.full_fit(freqs_res, real_res, imag_res)"
   ]
  },
  {
   "cell_type": "code",
   "execution_count": 33,
   "metadata": {},
   "outputs": [
    {
     "data": {
      "text/plain": [
       "{'A_mag': 0.063102108190736958,\n",
       " 'A_slope': -3.4891572267615451e-09,\n",
       " 'Q': 29758.871642306131,\n",
       " 'Q_e_imag': 6082.2403337843716,\n",
       " 'Q_e_real': 47549.732229519293,\n",
       " 'delay': 6.0554817401039131e-08,\n",
       " 'f_0': 5082027358.4349289,\n",
       " 'f_min': 5082482274.2150612,\n",
       " 'phi': -0.49273770901294256}"
      ]
     },
     "execution_count": 33,
     "metadata": {},
     "output_type": "execute_result"
    }
   ],
   "source": [
    "result.best_values"
   ]
  },
  {
   "cell_type": "code",
   "execution_count": 34,
   "metadata": {
    "collapsed": true
   },
   "outputs": [],
   "source": [
    "#get the other parameters\n",
    "Qi = get_qi(result.best_values['Q'], result.best_values['Q_e_real'])\n",
    "br = get_br(result.best_values['Q'], result.best_values['f_0'])"
   ]
  },
  {
   "cell_type": "code",
   "execution_count": 35,
   "metadata": {
    "collapsed": true
   },
   "outputs": [],
   "source": [
    "#lets make a fine version of the model to plot\n",
    "f_fine = arange(min(freqs_res), max(freqs_res), 100)\n",
    "fine_s21 = resonator_model.fine_s21_model(f_fine, result.best_values)"
   ]
  },
  {
   "cell_type": "code",
   "execution_count": 36,
   "metadata": {},
   "outputs": [
    {
     "data": {
      "text/plain": [
       "[<matplotlib.lines.Line2D at 0x111bc4750>]"
      ]
     },
     "execution_count": 36,
     "metadata": {},
     "output_type": "execute_result"
    },
    {
     "data": {
      "image/png": "[encoded data removed]",
      "text/plain": [
       "<matplotlib.figure.Figure at 0x111bfe350>"
      ]
     },
     "metadata": {},
     "output_type": "display_data"
    }
   ],
   "source": [
    "figure(figsize = (8,6))\n",
    "plot(real_res, imag_res, 'x', color = 'g', label = '$\\mathrm{freq.\\ sweep\\ data}$')\n",
    "#plot(result.best_fit.real, result.best_fit.imag, color = 'r', label = '$\\mathrm{S_{21}\\ model}$')\n",
    "plot(fine_s21.real, fine_s21.imag, color = 'r', label = '$\\mathrm{S_{21}\\ model}$')"
   ]
  },
  {
   "cell_type": "code",
   "execution_count": null,
   "metadata": {
    "collapsed": true
   },
   "outputs": [],
   "source": []
  }
 ],
 "metadata": {
  "kernelspec": {
   "display_name": "Python 3",
   "language": "python",
   "name": "python3"
  },
  "language_info": {
   "codemirror_mode": {
    "name": "ipython",
    "version": 3
   },
   "file_extension": ".py",
   "mimetype": "text/x-python",
   "name": "python",
   "nbconvert_exporter": "python",
   "pygments_lexer": "ipython3",
   "version": "3.7.1"
  }
 },
 "nbformat": 4,
 "nbformat_minor": 2
}
