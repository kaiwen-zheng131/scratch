{
 "cells": [
  {
   "cell_type": "code",
   "execution_count": 4,
   "metadata": {},
   "outputs": [],
   "source": [
    "#make resonator dataframes taking in both SMuRF tuning files and VNA frequency sweeps"
   ]
  },
  {
   "cell_type": "code",
   "execution_count": 5,
   "metadata": {},
   "outputs": [],
   "source": [
    "import pandas as pd"
   ]
  },
  {
   "cell_type": "code",
   "execution_count": 6,
   "metadata": {},
   "outputs": [
    {
     "data": {
      "text/html": [
       "<div>\n",
       "<style scoped>\n",
       "    .dataframe tbody tr th:only-of-type {\n",
       "        vertical-align: middle;\n",
       "    }\n",
       "\n",
       "    .dataframe tbody tr th {\n",
       "        vertical-align: top;\n",
       "    }\n",
       "\n",
       "    .dataframe thead th {\n",
       "        text-align: right;\n",
       "    }\n",
       "</style>\n",
       "<table border=\"1\" class=\"dataframe\">\n",
       "  <thead>\n",
       "    <tr style=\"text-align: right;\">\n",
       "      <th></th>\n",
       "      <th>resonator_index</th>\n",
       "      <th>f0</th>\n",
       "      <th>Qi</th>\n",
       "      <th>Qc</th>\n",
       "      <th>Q</th>\n",
       "      <th>br</th>\n",
       "      <th>depth</th>\n",
       "    </tr>\n",
       "  </thead>\n",
       "  <tbody>\n",
       "  </tbody>\n",
       "</table>\n",
       "</div>"
      ],
      "text/plain": [
       "Empty DataFrame\n",
       "Columns: [resonator_index, f0, Qi, Qc, Q, br, depth]\n",
       "Index: []"
      ]
     },
     "execution_count": 6,
     "metadata": {},
     "output_type": "execute_result"
    }
   ],
   "source": [
    "dres = {'resonator_index':[], \n",
    "    'f0':[], \n",
    "    'Qi':[], \n",
    "    'Qc':[],\n",
    "    'Q':[],\n",
    "    'br': [],\n",
    "    'depth':[]}\n",
    "        \n",
    "\n",
    "dfres = pd.DataFrame(dres)\n",
    "dfres = dfres[['resonator_index', 'f0', 'Qi', 'Qc', 'Q', 'br', 'depth']]\n",
    "\n",
    "dfres"
   ]
  },
  {
   "cell_type": "code",
   "execution_count": null,
   "metadata": {},
   "outputs": [],
   "source": [
    "#f0s is a list of all resonance frequencies. find them using this for now. But peak_finder should be rewritten!!\n",
    "f0s, resonance_s21 = peak_finder.get_peaks(fs, s21_corrected, f_delta=4e5, res_num=900);"
   ]
  },
  {
   "cell_type": "code",
   "execution_count": null,
   "metadata": {},
   "outputs": [],
   "source": [
    "#freqsarr is your frequency array\n",
    "#s21 array is your transmission magnitude array\n",
    "#realall is your transmission real array\n",
    "#imagall is your transmission imag array "
   ]
  },
  {
   "cell_type": "code",
   "execution_count": 8,
   "metadata": {},
   "outputs": [
    {
     "ename": "NameError",
     "evalue": "name 'f0s' is not defined",
     "output_type": "error",
     "traceback": [
      "\u001b[1;31m---------------------------------------------------------------------------\u001b[0m",
      "\u001b[1;31mNameError\u001b[0m                                 Traceback (most recent call last)",
      "\u001b[1;32m<ipython-input-8-09a445a2b3bf>\u001b[0m in \u001b[0;36m<module>\u001b[1;34m\u001b[0m\n\u001b[0;32m      3\u001b[0m \u001b[0mk\u001b[0m \u001b[1;33m=\u001b[0m \u001b[1;36m0\u001b[0m\u001b[1;33m\u001b[0m\u001b[1;33m\u001b[0m\u001b[0m\n\u001b[0;32m      4\u001b[0m \u001b[1;33m\u001b[0m\u001b[0m\n\u001b[1;32m----> 5\u001b[1;33m \u001b[1;32mfor\u001b[0m \u001b[0mfs\u001b[0m \u001b[1;32min\u001b[0m \u001b[0mf0s\u001b[0m\u001b[1;33m:\u001b[0m\u001b[1;33m\u001b[0m\u001b[1;33m\u001b[0m\u001b[0m\n\u001b[0m\u001b[0;32m      6\u001b[0m     \u001b[0mmask\u001b[0m \u001b[1;33m=\u001b[0m \u001b[1;33m(\u001b[0m\u001b[0mfreqsarr\u001b[0m \u001b[1;33m>\u001b[0m \u001b[1;33m(\u001b[0m\u001b[0mfs\u001b[0m \u001b[1;33m-\u001b[0m \u001b[0mfdelta\u001b[0m\u001b[1;33m)\u001b[0m\u001b[1;33m)\u001b[0m \u001b[1;33m&\u001b[0m \u001b[1;33m(\u001b[0m\u001b[0mfreqsarr\u001b[0m \u001b[1;33m<\u001b[0m \u001b[1;33m(\u001b[0m\u001b[0mfs\u001b[0m \u001b[1;33m+\u001b[0m \u001b[0mfdelta\u001b[0m\u001b[1;33m)\u001b[0m\u001b[1;33m)\u001b[0m\u001b[1;33m\u001b[0m\u001b[1;33m\u001b[0m\u001b[0m\n\u001b[0;32m      7\u001b[0m     \u001b[0mf_res\u001b[0m \u001b[1;33m=\u001b[0m \u001b[0mfreqsarr\u001b[0m\u001b[1;33m[\u001b[0m\u001b[0mmask\u001b[0m\u001b[1;33m]\u001b[0m\u001b[1;33m\u001b[0m\u001b[1;33m\u001b[0m\u001b[0m\n",
      "\u001b[1;31mNameError\u001b[0m: name 'f0s' is not defined"
     ]
    }
   ],
   "source": [
    "fdelta = 2.5e5\n",
    "\n",
    "k = 0\n",
    "\n",
    "for fs in f0s:\n",
    "    mask = (freqsarr > (fs - fdelta)) & (freqsarr < (fs + fdelta))\n",
    "    f_res = freqsarr[mask]\n",
    "    s21_res = s21arr[mask]\n",
    "    real_res = realall[mask]\n",
    "    imag_res = imagall[mask]\n",
    "\n",
    "\n",
    "    result = resonator_model.full_fit(f_res, real_res, imag_res)\n",
    "    s21_fit  = np.sqrt(result.best_fit.real**2 + result.best_fit.imag**2)\n",
    "\n",
    "    \n",
    "    #things we want to add to data frame\n",
    "    f0 = result.best_values['f_0']\n",
    "    Q = result.best_values['Q']\n",
    "    Qc = result.best_values['Q_e_real']\n",
    "    Qi = get_qi(result.best_values['Q'], result.best_values['Q_e_real'])\n",
    "    br = get_br(result.best_values['Q'], result.best_values['f_0'])\n",
    "    res_index = resonator_dict[fs]\n",
    "    depth = get_dip_depth(result.best_fit.real, result.best_fit.imag)\n",
    "    \n",
    "    dfres = dfres.append({'resonator_index': res_index, 'f0': f0, 'Qi': Qi, 'Qc': Qc, 'Q': Q, 'br':br, 'depth':depth}, ignore_index=True)\n",
    "\n",
    "k=k+1"
   ]
  },
  {
   "cell_type": "code",
   "execution_count": null,
   "metadata": {},
   "outputs": [],
   "source": []
  }
 ],
 "metadata": {
  "kernelspec": {
   "display_name": "Python 3",
   "language": "python",
   "name": "python3"
  },
  "language_info": {
   "codemirror_mode": {
    "name": "ipython",
    "version": 3
   },
   "file_extension": ".py",
   "mimetype": "text/x-python",
   "name": "python",
   "nbconvert_exporter": "python",
   "pygments_lexer": "ipython3",
   "version": "3.7.1"
  }
 },
 "nbformat": 4,
 "nbformat_minor": 2
}
