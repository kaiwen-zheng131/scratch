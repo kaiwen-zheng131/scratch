{
 "cells": [
  {
   "cell_type": "code",
   "execution_count": 1,
   "metadata": {
    "scrolled": true
   },
   "outputs": [
    {
     "name": "stdout",
     "output_type": "stream",
     "text": [
      "Populating the interactive namespace from numpy and matplotlib\n"
     ]
    }
   ],
   "source": [
    "%pylab inline"
   ]
  },
  {
   "cell_type": "code",
   "execution_count": 2,
   "metadata": {},
   "outputs": [],
   "source": [
    "#frige should be at 100mK\n",
    "#you need a -20 dB attenuator after the VNA ort 1 and a +21 amplifier on the way in \n",
    "#in the script you have to change the directory, which is hardcoded"
   ]
  },
  {
   "cell_type": "code",
   "execution_count": 3,
   "metadata": {},
   "outputs": [
    {
     "ename": "ModuleNotFoundError",
     "evalue": "No module named 'agilent_33210A'",
     "output_type": "error",
     "traceback": [
      "\u001b[1;31m---------------------------------------------------------------------------\u001b[0m",
      "\u001b[1;31mModuleNotFoundError\u001b[0m                       Traceback (most recent call last)",
      "\u001b[1;32m<ipython-input-3-152039fc891d>\u001b[0m in \u001b[0;36m<module>\u001b[1;34m\u001b[0m\n\u001b[1;32m----> 1\u001b[1;33m \u001b[1;32mimport\u001b[0m \u001b[0magilent_33210A\u001b[0m\u001b[1;33m\u001b[0m\u001b[1;33m\u001b[0m\u001b[0m\n\u001b[0m",
      "\u001b[1;31mModuleNotFoundError\u001b[0m: No module named 'agilent_33210A'"
     ]
    }
   ],
   "source": [
    "import agilent_33210A"
   ]
  },
  {
   "cell_type": "code",
   "execution_count": 4,
   "metadata": {},
   "outputs": [
    {
     "ename": "ModuleNotFoundError",
     "evalue": "No module named 'vna_E5063A'",
     "output_type": "error",
     "traceback": [
      "\u001b[1;31m---------------------------------------------------------------------------\u001b[0m",
      "\u001b[1;31mModuleNotFoundError\u001b[0m                       Traceback (most recent call last)",
      "\u001b[1;32m<ipython-input-4-79bb36a2b8b3>\u001b[0m in \u001b[0;36m<module>\u001b[1;34m\u001b[0m\n\u001b[1;32m----> 1\u001b[1;33m \u001b[1;32mimport\u001b[0m \u001b[0mvna_E5063A\u001b[0m\u001b[1;33m\u001b[0m\u001b[1;33m\u001b[0m\u001b[0m\n\u001b[0m",
      "\u001b[1;31mModuleNotFoundError\u001b[0m: No module named 'vna_E5063A'"
     ]
    }
   ],
   "source": [
    "import vna_E5063A"
   ]
  },
  {
   "cell_type": "code",
   "execution_count": 5,
   "metadata": {},
   "outputs": [
    {
     "ename": "NameError",
     "evalue": "name 'vna_E5063A' is not defined",
     "output_type": "error",
     "traceback": [
      "\u001b[1;31m---------------------------------------------------------------------------\u001b[0m",
      "\u001b[1;31mNameError\u001b[0m                                 Traceback (most recent call last)",
      "\u001b[1;32m<ipython-input-5-2ef9528125d4>\u001b[0m in \u001b[0;36m<module>\u001b[1;34m\u001b[0m\n\u001b[1;32m----> 1\u001b[1;33m \u001b[0mvna\u001b[0m \u001b[1;33m=\u001b[0m \u001b[0mvna_E5063A\u001b[0m\u001b[1;33m.\u001b[0m\u001b[0mVNA\u001b[0m\u001b[1;33m(\u001b[0m\u001b[1;33m)\u001b[0m\u001b[1;33m\u001b[0m\u001b[1;33m\u001b[0m\u001b[0m\n\u001b[0m",
      "\u001b[1;31mNameError\u001b[0m: name 'vna_E5063A' is not defined"
     ]
    }
   ],
   "source": [
    "vna = vna_E5063A.VNA()"
   ]
  },
  {
   "cell_type": "code",
   "execution_count": 5,
   "metadata": {},
   "outputs": [
    {
     "name": "stdout",
     "output_type": "stream",
     "text": [
      "b'ASC\\n'\n",
      "b'+10000\\n'\n",
      "b'-2.00000000000E+001\\n'\n",
      ":CALC1:PAR1:DEF S21 \n",
      "\n"
     ]
    }
   ],
   "source": [
    "vna.normal_start_up()"
   ]
  },
  {
   "cell_type": "code",
   "execution_count": 6,
   "metadata": {},
   "outputs": [
    {
     "name": "stdout",
     "output_type": "stream",
     "text": [
      "b'+4.00000000000E+009\\n'\n",
      "b'+8.00000000000E+009\\n'\n",
      "b'+1.00000000000E+003\\n'\n",
      "b'POL\\n'\n",
      "b'+1.94326985300E+001\\n'\n",
      "waiting 24 s for freq sweep to be done\n",
      "finished freq sweep from 4000000000.0 to 8000000000.0 Hz at BW 1000 Hz and -20 dB power\n",
      ":MMEM:STOR:FDAT \"D:/State/20190510_mmbv1pp_split3/1558362945.83-f_4.00_to_8.00-bw_1000.0-atten_20.0-volts_0.000.csv\" \n",
      "\n",
      ":MMEM:STOR:SNP \"D:/State/20190510_mmbv1pp_split3/1558362945.83-f_4.00_to_8.00-bw_1000.0-atten_20.0-volts_0.000.s2p\" \n",
      "\n",
      "b'+0,\"No error\"\\n'\n",
      "done saving data for sweep\n"
     ]
    }
   ],
   "source": [
    "vna.get_freq_sweep(4e9,8e9, if_bandwidth=1000)"
   ]
  },
  {
   "cell_type": "code",
   "execution_count": 7,
   "metadata": {},
   "outputs": [],
   "source": [
    "freqs = np.arange(4.0e9,8.0e9,0.2e9)"
   ]
  },
  {
   "cell_type": "code",
   "execution_count": 8,
   "metadata": {},
   "outputs": [
    {
     "data": {
      "text/plain": [
       "array([4.0e+09, 4.2e+09, 4.4e+09, 4.6e+09, 4.8e+09, 5.0e+09, 5.2e+09,\n",
       "       5.4e+09, 5.6e+09, 5.8e+09, 6.0e+09, 6.2e+09, 6.4e+09, 6.6e+09,\n",
       "       6.8e+09, 7.0e+09, 7.2e+09, 7.4e+09, 7.6e+09, 7.8e+09])"
      ]
     },
     "execution_count": 8,
     "metadata": {},
     "output_type": "execute_result"
    }
   ],
   "source": [
    "freqs"
   ]
  },
  {
   "cell_type": "code",
   "execution_count": 9,
   "metadata": {},
   "outputs": [
    {
     "name": "stdout",
     "output_type": "stream",
     "text": [
      "-15\n",
      "b'+4.00000000000E+009\\n'\n",
      "b'+4.20000000000E+009\\n'\n",
      "b'+1.00000000000E+002\\n'\n",
      "b'POL\\n'\n",
      "b'+1.92134511350E+002\\n'\n",
      "waiting 197 s for freq sweep to be done\n",
      "finished freq sweep from 4000000000.0 to 4200000000.0 Hz at BW 100 Hz and -15 dB power\n",
      ":MMEM:STOR:FDAT \"D:/State/20190510_mmbv1pp_split3/1558363154.65-f_4.00_to_4.20-bw_100.0-atten_15.0-volts_0.000.csv\" \n",
      "\n",
      ":MMEM:STOR:SNP \"D:/State/20190510_mmbv1pp_split3/1558363154.65-f_4.00_to_4.20-bw_100.0-atten_15.0-volts_0.000.s2p\" \n",
      "\n",
      "b''\n",
      "done saving data for sweep\n",
      "-15\n",
      "b'+4.20000000000E+009\\n'\n",
      "b'+4.40000000000E+009\\n'\n",
      "b'+1.00000000000E+002\\n'\n",
      "b'POL\\n'\n",
      "b'+1.92134329124E+002\\n'\n",
      "waiting 197 s for freq sweep to be done\n",
      "finished freq sweep from 4200000000.0 to 4400000000.0 Hz at BW 100 Hz and -15 dB power\n",
      ":MMEM:STOR:FDAT \"D:/State/20190510_mmbv1pp_split3/1558363363.82-f_4.20_to_4.40-bw_100.0-atten_15.0-volts_0.000.csv\" \n",
      "\n",
      ":MMEM:STOR:SNP \"D:/State/20190510_mmbv1pp_split3/1558363363.82-f_4.20_to_4.40-bw_100.0-atten_15.0-volts_0.000.s2p\" \n",
      "\n",
      "b'+0,\"No error\"\\n'\n",
      "done saving data for sweep\n",
      "-15\n",
      "b'+4.40000000000E+009\\n'\n",
      "b'+4.60000000000E+009\\n'\n",
      "b'+1.00000000000E+002\\n'\n",
      "b'POL\\n'\n",
      "b'+1.92132886865E+002\\n'\n",
      "waiting 197 s for freq sweep to be done\n",
      "finished freq sweep from 4400000000.0 to 4600000000.0 Hz at BW 100 Hz and -15 dB power\n",
      ":MMEM:STOR:FDAT \"D:/State/20190510_mmbv1pp_split3/1558363572.64-f_4.40_to_4.60-bw_100.0-atten_15.0-volts_0.000.csv\" \n",
      "\n",
      ":MMEM:STOR:SNP \"D:/State/20190510_mmbv1pp_split3/1558363572.64-f_4.40_to_4.60-bw_100.0-atten_15.0-volts_0.000.s2p\" \n",
      "\n",
      "b'+0,\"No error\"\\n'\n",
      "done saving data for sweep\n",
      "-15\n",
      "b'+4.60000000000E+009\\n'\n",
      "b'+4.80000000000E+009\\n'\n",
      "b'+1.00000000000E+002\\n'\n",
      "b'POL\\n'\n",
      "b'+1.92133216765E+002\\n'\n",
      "waiting 197 s for freq sweep to be done\n",
      "finished freq sweep from 4600000000.0 to 4800000000.0 Hz at BW 100 Hz and -15 dB power\n",
      ":MMEM:STOR:FDAT \"D:/State/20190510_mmbv1pp_split3/1558363781.47-f_4.60_to_4.80-bw_100.0-atten_15.0-volts_0.000.csv\" \n",
      "\n",
      ":MMEM:STOR:SNP \"D:/State/20190510_mmbv1pp_split3/1558363781.47-f_4.60_to_4.80-bw_100.0-atten_15.0-volts_0.000.s2p\" \n",
      "\n",
      "b'+0,\"No error\"\\n'\n",
      "done saving data for sweep\n",
      "-15\n",
      "b'+4.80000000000E+009\\n'\n",
      "b'+5.00000000000E+009\\n'\n",
      "b'+1.00000000000E+002\\n'\n",
      "b'POL\\n'\n",
      "b'+1.92132803865E+002\\n'\n",
      "waiting 197 s for freq sweep to be done\n",
      "finished freq sweep from 4800000000.0 to 5000000000.0 Hz at BW 100 Hz and -15 dB power\n",
      ":MMEM:STOR:FDAT \"D:/State/20190510_mmbv1pp_split3/1558363990.27-f_4.80_to_5.00-bw_100.0-atten_15.0-volts_0.000.csv\" \n",
      "\n",
      ":MMEM:STOR:SNP \"D:/State/20190510_mmbv1pp_split3/1558363990.27-f_4.80_to_5.00-bw_100.0-atten_15.0-volts_0.000.s2p\" \n",
      "\n",
      "b'+0,\"No error\"\\n'\n",
      "done saving data for sweep\n",
      "-10\n",
      "b'+5.00000000000E+009\\n'\n",
      "b'+5.20000000000E+009\\n'\n",
      "b'+1.00000000000E+002\\n'\n",
      "b'POL\\n'\n",
      "b'+1.92133216765E+002\\n'\n",
      "waiting 197 s for freq sweep to be done\n",
      "finished freq sweep from 5000000000.0 to 5200000000.0 Hz at BW 100 Hz and -10 dB power\n",
      ":MMEM:STOR:FDAT \"D:/State/20190510_mmbv1pp_split3/1558364199.09-f_5.00_to_5.20-bw_100.0-atten_10.0-volts_0.000.csv\" \n",
      "\n",
      ":MMEM:STOR:SNP \"D:/State/20190510_mmbv1pp_split3/1558364199.09-f_5.00_to_5.20-bw_100.0-atten_10.0-volts_0.000.s2p\" \n",
      "\n",
      "b'+0,\"No error\"\\n'\n",
      "done saving data for sweep\n",
      "-10\n",
      "b'+5.20000000000E+009\\n'\n",
      "b'+5.40000000000E+009\\n'\n",
      "b'+1.00000000000E+002\\n'\n",
      "b'POL\\n'\n",
      "b'+1.92132886865E+002\\n'\n",
      "waiting 197 s for freq sweep to be done\n",
      "finished freq sweep from 5200000000.0 to 5400000000.0 Hz at BW 100 Hz and -10 dB power\n",
      ":MMEM:STOR:FDAT \"D:/State/20190510_mmbv1pp_split3/1558364407.89-f_5.20_to_5.40-bw_100.0-atten_10.0-volts_0.000.csv\" \n",
      "\n",
      ":MMEM:STOR:SNP \"D:/State/20190510_mmbv1pp_split3/1558364407.89-f_5.20_to_5.40-bw_100.0-atten_10.0-volts_0.000.s2p\" \n",
      "\n",
      "b'+0,\"No error\"\\n'\n",
      "done saving data for sweep\n",
      "-10\n",
      "b'+5.40000000000E+009\\n'\n",
      "b'+5.60000000000E+009\\n'\n",
      "b'+1.00000000000E+002\\n'\n",
      "b'POL\\n'\n",
      "b'+1.92133216765E+002\\n'\n",
      "waiting 197 s for freq sweep to be done\n",
      "finished freq sweep from 5400000000.0 to 5600000000.0 Hz at BW 100 Hz and -10 dB power\n",
      ":MMEM:STOR:FDAT \"D:/State/20190510_mmbv1pp_split3/1558364616.68-f_5.40_to_5.60-bw_100.0-atten_10.0-volts_0.000.csv\" \n",
      "\n",
      ":MMEM:STOR:SNP \"D:/State/20190510_mmbv1pp_split3/1558364616.68-f_5.40_to_5.60-bw_100.0-atten_10.0-volts_0.000.s2p\" \n",
      "\n",
      "b'+0,\"No error\"\\n'\n",
      "done saving data for sweep\n",
      "-10\n",
      "b'+5.60000000000E+009\\n'\n",
      "b'+5.80000000000E+009\\n'\n",
      "b'+1.00000000000E+002\\n'\n",
      "b'POL\\n'\n",
      "b'+1.92132803865E+002\\n'\n",
      "waiting 197 s for freq sweep to be done\n",
      "finished freq sweep from 5600000000.0 to 5800000000.0 Hz at BW 100 Hz and -10 dB power\n",
      ":MMEM:STOR:FDAT \"D:/State/20190510_mmbv1pp_split3/1558364825.51-f_5.60_to_5.80-bw_100.0-atten_10.0-volts_0.000.csv\" \n",
      "\n",
      ":MMEM:STOR:SNP \"D:/State/20190510_mmbv1pp_split3/1558364825.51-f_5.60_to_5.80-bw_100.0-atten_10.0-volts_0.000.s2p\" \n",
      "\n",
      "b'+0,\"No error\"\\n'\n",
      "done saving data for sweep\n",
      "-10\n",
      "b'+5.80000000000E+009\\n'\n",
      "b'+6.00000000000E+009\\n'\n",
      "b'+1.00000000000E+002\\n'\n",
      "b'POL\\n'\n",
      "b'+1.92132886865E+002\\n'\n",
      "waiting 197 s for freq sweep to be done\n",
      "finished freq sweep from 5800000000.0 to 6000000000.0 Hz at BW 100 Hz and -10 dB power\n",
      ":MMEM:STOR:FDAT \"D:/State/20190510_mmbv1pp_split3/1558365034.29-f_5.80_to_6.00-bw_100.0-atten_10.0-volts_0.000.csv\" \n",
      "\n",
      ":MMEM:STOR:SNP \"D:/State/20190510_mmbv1pp_split3/1558365034.29-f_5.80_to_6.00-bw_100.0-atten_10.0-volts_0.000.s2p\" \n",
      "\n",
      "b'+0,\"No error\"\\n'\n",
      "done saving data for sweep\n",
      "-5\n",
      "b'+6.00000000000E+009\\n'\n",
      "b'+6.20000000000E+009\\n'\n",
      "b'+1.00000000000E+002\\n'\n",
      "b'POL\\n'\n",
      "b'+1.92133130084E+002\\n'\n",
      "waiting 197 s for freq sweep to be done\n",
      "finished freq sweep from 6000000000.0 to 6200000000.0 Hz at BW 100 Hz and -5 dB power\n",
      ":MMEM:STOR:FDAT \"D:/State/20190510_mmbv1pp_split3/1558365243.11-f_6.00_to_6.20-bw_100.0-atten_5.0-volts_0.000.csv\" \n",
      "\n",
      ":MMEM:STOR:SNP \"D:/State/20190510_mmbv1pp_split3/1558365243.11-f_6.00_to_6.20-bw_100.0-atten_5.0-volts_0.000.s2p\" \n",
      "\n",
      "b'+0,\"No error\"\\n'\n",
      "done saving data for sweep\n",
      "-5\n",
      "b'+6.20000000000E+009\\n'\n",
      "b'+6.40000000000E+009\\n'\n",
      "b'+1.00000000000E+002\\n'\n",
      "b'POL\\n'\n",
      "b'+1.92132803865E+002\\n'\n",
      "waiting 197 s for freq sweep to be done\n",
      "finished freq sweep from 6200000000.0 to 6400000000.0 Hz at BW 100 Hz and -5 dB power\n",
      ":MMEM:STOR:FDAT \"D:/State/20190510_mmbv1pp_split3/1558365451.89-f_6.20_to_6.40-bw_100.0-atten_5.0-volts_0.000.csv\" \n",
      "\n",
      ":MMEM:STOR:SNP \"D:/State/20190510_mmbv1pp_split3/1558365451.89-f_6.20_to_6.40-bw_100.0-atten_5.0-volts_0.000.s2p\" \n",
      "\n",
      "b'+0,\"No error\"\\n'\n",
      "done saving data for sweep\n",
      "-5\n",
      "b'+6.40000000000E+009\\n'\n",
      "b'+6.60000000000E+009\\n'\n",
      "b'+1.00000000000E+002\\n'\n",
      "b'POL\\n'\n",
      "b'+1.92121089116E+002\\n'\n",
      "waiting 197 s for freq sweep to be done\n",
      "finished freq sweep from 6400000000.0 to 6600000000.0 Hz at BW 100 Hz and -5 dB power\n",
      ":MMEM:STOR:FDAT \"D:/State/20190510_mmbv1pp_split3/1558365660.68-f_6.40_to_6.60-bw_100.0-atten_5.0-volts_0.000.csv\" \n",
      "\n",
      ":MMEM:STOR:SNP \"D:/State/20190510_mmbv1pp_split3/1558365660.68-f_6.40_to_6.60-bw_100.0-atten_5.0-volts_0.000.s2p\" \n",
      "\n",
      "b'+0,\"No error\"\\n'\n",
      "done saving data for sweep\n",
      "-5\n",
      "b'+6.60000000000E+009\\n'\n",
      "b'+6.80000000000E+009\\n'\n",
      "b'+1.00000000000E+002\\n'\n",
      "b'POL\\n'\n",
      "b'+1.92108629140E+002\\n'\n",
      "waiting 197 s for freq sweep to be done\n",
      "finished freq sweep from 6600000000.0 to 6800000000.0 Hz at BW 100 Hz and -5 dB power\n",
      ":MMEM:STOR:FDAT \"D:/State/20190510_mmbv1pp_split3/1558365869.48-f_6.60_to_6.80-bw_100.0-atten_5.0-volts_0.000.csv\" \n",
      "\n",
      ":MMEM:STOR:SNP \"D:/State/20190510_mmbv1pp_split3/1558365869.48-f_6.60_to_6.80-bw_100.0-atten_5.0-volts_0.000.s2p\" \n",
      "\n",
      "b'+0,\"No error\"\\n'\n",
      "done saving data for sweep\n",
      "-5\n",
      "b'+6.80000000000E+009\\n'\n",
      "b'+7.00000000000E+009\\n'\n",
      "b'+1.00000000000E+002\\n'\n",
      "b'POL\\n'\n",
      "b'+1.92108546140E+002\\n'\n",
      "waiting 197 s for freq sweep to be done\n",
      "finished freq sweep from 6800000000.0 to 7000000000.0 Hz at BW 100 Hz and -5 dB power\n",
      ":MMEM:STOR:FDAT \"D:/State/20190510_mmbv1pp_split3/1558366078.36-f_6.80_to_7.00-bw_100.0-atten_5.0-volts_0.000.csv\" \n",
      "\n",
      ":MMEM:STOR:SNP \"D:/State/20190510_mmbv1pp_split3/1558366078.36-f_6.80_to_7.00-bw_100.0-atten_5.0-volts_0.000.s2p\" \n",
      "\n",
      "b'+0,\"No error\"\\n'\n",
      "done saving data for sweep\n",
      "0\n",
      "b'+7.00000000000E+009\\n'\n",
      "b'+7.20000000000E+009\\n'\n",
      "b'+1.00000000000E+002\\n'\n",
      "b'POL\\n'\n",
      "b'+1.92108957785E+002\\n'\n",
      "waiting 197 s for freq sweep to be done\n",
      "finished freq sweep from 7000000000.0 to 7200000000.0 Hz at BW 100 Hz and 0 dB power\n",
      ":MMEM:STOR:FDAT \"D:/State/20190510_mmbv1pp_split3/1558366287.16-f_7.00_to_7.20-bw_100.0-atten_0.0-volts_0.000.csv\" \n",
      "\n",
      ":MMEM:STOR:SNP \"D:/State/20190510_mmbv1pp_split3/1558366287.16-f_7.00_to_7.20-bw_100.0-atten_0.0-volts_0.000.s2p\" \n",
      "\n"
     ]
    },
    {
     "name": "stdout",
     "output_type": "stream",
     "text": [
      "b'+0,\"No error\"\\n'\n",
      "done saving data for sweep\n",
      "0\n",
      "b'+7.20000000000E+009\\n'\n",
      "b'+7.40000000000E+009\\n'\n",
      "b'+1.00000000000E+002\\n'\n",
      "b'POL\\n'\n",
      "b'+1.92108876040E+002\\n'\n",
      "waiting 197 s for freq sweep to be done\n",
      "finished freq sweep from 7200000000.0 to 7400000000.0 Hz at BW 100 Hz and 0 dB power\n",
      ":MMEM:STOR:FDAT \"D:/State/20190510_mmbv1pp_split3/1558366495.96-f_7.20_to_7.40-bw_100.0-atten_0.0-volts_0.000.csv\" \n",
      "\n",
      ":MMEM:STOR:SNP \"D:/State/20190510_mmbv1pp_split3/1558366495.96-f_7.20_to_7.40-bw_100.0-atten_0.0-volts_0.000.s2p\" \n",
      "\n",
      "b'+0,\"No error\"\\n'\n",
      "done saving data for sweep\n",
      "0\n",
      "b'+7.40000000000E+009\\n'\n",
      "b'+7.60000000000E+009\\n'\n",
      "b'+1.00000000000E+002\\n'\n",
      "b'POL\\n'\n",
      "b'+1.92108546140E+002\\n'\n",
      "waiting 197 s for freq sweep to be done\n",
      "finished freq sweep from 7400000000.0 to 7600000000.0 Hz at BW 100 Hz and 0 dB power\n",
      ":MMEM:STOR:FDAT \"D:/State/20190510_mmbv1pp_split3/1558366704.77-f_7.40_to_7.60-bw_100.0-atten_0.0-volts_0.000.csv\" \n",
      "\n",
      ":MMEM:STOR:SNP \"D:/State/20190510_mmbv1pp_split3/1558366704.77-f_7.40_to_7.60-bw_100.0-atten_0.0-volts_0.000.s2p\" \n",
      "\n",
      "b'+0,\"No error\"\\n'\n",
      "done saving data for sweep\n",
      "0\n",
      "b'+7.60000000000E+009\\n'\n",
      "b'+7.80000000000E+009\\n'\n",
      "b'+1.00000000000E+002\\n'\n",
      "b'POL\\n'\n",
      "b'+1.92108874785E+002\\n'\n",
      "waiting 197 s for freq sweep to be done\n",
      "finished freq sweep from 7600000000.0 to 7800000000.0 Hz at BW 100 Hz and 0 dB power\n",
      ":MMEM:STOR:FDAT \"D:/State/20190510_mmbv1pp_split3/1558366913.59-f_7.60_to_7.80-bw_100.0-atten_0.0-volts_0.000.csv\" \n",
      "\n",
      ":MMEM:STOR:SNP \"D:/State/20190510_mmbv1pp_split3/1558366913.59-f_7.60_to_7.80-bw_100.0-atten_0.0-volts_0.000.s2p\" \n",
      "\n",
      "b'+0,\"No error\"\\n'\n",
      "done saving data for sweep\n",
      "0\n",
      "b'+7.80000000000E+009\\n'\n",
      "b'+8.00000000000E+009\\n'\n",
      "b'+1.00000000000E+002\\n'\n",
      "b'POL\\n'\n",
      "b'+1.92108876040E+002\\n'\n",
      "waiting 197 s for freq sweep to be done\n",
      "finished freq sweep from 7800000000.0 to 8000000000.0 Hz at BW 100 Hz and 0 dB power\n",
      ":MMEM:STOR:FDAT \"D:/State/20190510_mmbv1pp_split3/1558367122.37-f_7.80_to_8.00-bw_100.0-atten_0.0-volts_0.000.csv\" \n",
      "\n",
      ":MMEM:STOR:SNP \"D:/State/20190510_mmbv1pp_split3/1558367122.37-f_7.80_to_8.00-bw_100.0-atten_0.0-volts_0.000.s2p\" \n",
      "\n",
      "b'+0,\"No error\"\\n'\n",
      "done saving data for sweep\n"
     ]
    }
   ],
   "source": [
    "for freq in freqs:\n",
    "    if freq < 5.0e9:\n",
    "        atten = -15\n",
    "    elif freq >= 5.0e9 and freq < 6.0e9:\n",
    "        atten = -10\n",
    "    elif freq >= 6.0e9 and freq < 7.0e9:\n",
    "        atten = -5\n",
    "    elif freq >= 7.0e9:\n",
    "        atten = 0\n",
    "    print (atten)\n",
    "    f_start = freq\n",
    "    f_stop = freq + 0.2e9\n",
    "    \n",
    "    vna.get_freq_sweep(f_start,f_stop, if_bandwidth=100, power_level=atten)"
   ]
  },
  {
   "cell_type": "code",
   "execution_count": null,
   "metadata": {},
   "outputs": [],
   "source": []
  }
 ],
 "metadata": {
  "kernelspec": {
   "display_name": "Python 3",
   "language": "python",
   "name": "python3"
  },
  "language_info": {
   "codemirror_mode": {
    "name": "ipython",
    "version": 3
   },
   "file_extension": ".py",
   "mimetype": "text/x-python",
   "name": "python",
   "nbconvert_exporter": "python",
   "pygments_lexer": "ipython3",
   "version": "3.7.1"
  }
 },
 "nbformat": 4,
 "nbformat_minor": 2
}
